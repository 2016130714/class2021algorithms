{
 "cells": [
  {
   "cell_type": "markdown",
   "id": "7a2847d5",
   "metadata": {},
   "source": [
    "# Maximum Subarray Algorithm\n",
    "* input array의 sub array 중에서, 가장 sum이 큰 subarray를 찾는 알고리즘\n",
    "* 전제: 몇 개 정도는 음수가 존재해야 함. (전부 양수면 논할 필요가 없는 문제다.)\n",
    "* Divide-and-Conquer 방식. reucursive\n",
    "\n",
    "\n",
    "* 아이디어: 1) array를 recursive로 2 * (n / 2) 하게 나눈다. base case는 low == high일 때, 즉 원소가 하나일 때다. 이 과정은 merge-sort와 동일하다.\n",
    "* 다만 return하는 값, combine하는 과정이 상당히 다르다. (low, high, sum) 구조의 값을 return하고, 어느 것의 sum이 가장 큰지 비교한다.\n",
    "* 맨 처음 값이 return되면 (1, 1, A[1]) vs (2, 2, A[2]) vs (1, 2, A[1] + A[2])의 값 중에서 가장 큰 값을 return한다. 원소가 두 개인 배열에 대해서부터 이 과정을 시행하고, 이것은 곧 원소가 두 개일 때 가능한 subarray의 값을 모두 비교하는 것과 같다.\n",
    "* MAX(A[1] ~ A[2]), MAX(A[3] ~ A[4])를 찾은 뒤에는 종결 조건 low == high에는 걸릴 일이 없어, Find-Max-Subarray 내에서는 3개 값의 비교만 일어난다. 계속 update되는 값은 cross함수에서만 생긴다. 원소가 하나인 경우부터 따져왔기 때문에, cross의 경우만 따지면 무조건 max가 출력된다!!!\n",
    "\n",
    "\n",
    "* list 구조가 편하긴 하나, pseudo code에 tuple 구조를 썼기 때문에 똑같이 쓰도록 하겠다.\n",
    "+ pseudo code의 \"-\"는 빼기와 혼동되기에 변수명에 사용될 수 없다 \"_\"를 쓰자 "
   ]
  },
  {
   "cell_type": "markdown",
   "id": "ea5c0b17",
   "metadata": {},
   "source": [
    "## Find-Max-Crossing-Subarray Algorithm\n",
    "* 불변의 전제: cross-array의 특성 상 이 함수의 결과는 무조건 mid를 지나야 한다. array의 원소가 1개라면 mid가 없기 때문에, 최소 2개일 때부터 실행 가능하다.\n",
    "* mid를 기준으로 mid to low까지 / mid to high까지의 반복문을 각각 돌린다. left, right 각각에서 max를 찾고, left max와 right max를 더하여 최종 값을 return한다.\n",
    "* 각 반복문의 결과는 left_sum / right_sum 변수에 저장할 것이다. 그런데 값 비교를 위해 temporal 변수 sum을 활용할 것이다. if (sum > left_sum)의 조건문으로 대소비교를 할텐데, 첫 비교에서 반드시 sum 값을 저장하기 위해 initially left/right_sum = - inf로 선언한다."
   ]
  },
  {
   "cell_type": "code",
   "execution_count": 26,
   "id": "d59cd739",
   "metadata": {},
   "outputs": [],
   "source": [
    "import math\n",
    "\n",
    "def FIND_MAX_SUBARRAY(A, low, high):\n",
    "    \n",
    "    #base case: 첫 비교 (A[1] vs A[2] VS A[1 + 2])를 가능하게 함\n",
    "    if (low == high): \n",
    "        return (low, high, A[low])\n",
    "    \n",
    "    #(low, high, sum) 형태의 tuple 구조를 유지하며 비교\n",
    "    else:\n",
    "        mid = math.floor((low + high) / 2)\n",
    "        \n",
    "        (left_low, left_high, left_sum) = FIND_MAX_SUBARRAY(A, low, mid)\n",
    "        (right_low, right_high, right_sum) = FIND_MAX_SUBARRAY(A, mid + 1, high)\n",
    "        \n",
    "        (cross_low, cross_high, cross_sum) = FIND_MAX_CROSSING_SUBARRAY(A, low, mid, high)\n",
    "        \n",
    "       \n",
    "        #left, right, cross 중 max(sum)의 tuple을 return\n",
    "        if (left_sum >= right_sum and left_sum >= cross_sum):\n",
    "            return(left_low, left_high, left_sum)\n",
    "        elif (right_sum >= left_sum and right_sum >= cross_sum):\n",
    "            return(right_low, right_high, right_sum)\n",
    "        else:\n",
    "            return(cross_low, cross_high, cross_sum)\n",
    "\n",
    "        \n",
    "def FIND_MAX_CROSSING_SUBARRAY(A, low, mid, high):\n",
    "    \n",
    "    #첫 비교의 값을 무조건 대입하기 위해 left/right_sum을 음의 무한대로 설정\n",
    "    left_sum = - float(\"inf\")\n",
    "    sum = 0\n",
    "    \n",
    "    # mid 기준 왼쪽 subarray를 확장해가며 비교\n",
    "    for i in range(mid, -1, -1):\n",
    "        sum += A[i]\n",
    "        if(sum > left_sum):\n",
    "            left_sum = sum\n",
    "            max_left = i     #최댓값이 된 index까지 저장해야 한다.\n",
    "    \n",
    "    right_sum = - float(\"inf\")\n",
    "    sum = 0\n",
    "    \n",
    "    for j in range(mid + 1, high + 1):\n",
    "        sum += A[j]\n",
    "        if (sum > right_sum):\n",
    "            right_sum = sum\n",
    "            max_right = j\n",
    "    \n",
    "    return(max_left, max_right, left_sum + right_sum)\n",
    "    #mid 기준 오른쪽 subarray를 확장해가며 비교"
   ]
  },
  {
   "cell_type": "code",
   "execution_count": 28,
   "id": "f324aea0",
   "metadata": {},
   "outputs": [
    {
     "data": {
      "text/plain": [
       "(2, 6, 9)"
      ]
     },
     "execution_count": 28,
     "metadata": {},
     "output_type": "execute_result"
    }
   ],
   "source": [
    "A = [-2, -3, 4, 1, -2, 1, 5, -3]\n",
    "FIND_MAX_SUBARRAY(A, 0, 7)"
   ]
  },
  {
   "cell_type": "code",
   "execution_count": null,
   "id": "2cfb09b7",
   "metadata": {},
   "outputs": [],
   "source": [
    "#제출용\n",
    "INF = -10000000\n",
    "\n",
    "def FIND_MAX_SUB(A, low, high):\n",
    "    \n",
    "    if (low == high): \n",
    "        return (low, high, A[low])\n",
    "    \n",
    "    else:\n",
    "        mid = int((low + high) / 2)\n",
    "        \n",
    "        (left_low, left_high, left_sum) = FIND_MAX_SUB(A, low, mid)\n",
    "        (right_low, right_high, right_sum) = FIND_MAX_SUB(A, mid + 1, high)\n",
    "        \n",
    "        (cross_low, cross_high, cross_sum) = FIND_MAX_CROSS_SUB(A, low, mid, high)\n",
    "        \n",
    "        if (left_sum >= right_sum and left_sum >= cross_sum):\n",
    "            return(left_low, left_high, left_sum)\n",
    "        elif (right_sum >= left_sum and right_sum >= cross_sum):\n",
    "            return(right_low, right_high, right_sum)\n",
    "        else:\n",
    "            return(cross_low, cross_high, cross_sum)\n",
    "\n",
    "        \n",
    "def FIND_MAX_CROSS_SUB(A, low, mid, high):\n",
    "    \n",
    "    left_sum = INF\n",
    "    sum = 0\n",
    "    \n",
    "    for i in range(mid, low - 1, -1):\n",
    "        sum += A[i]\n",
    "        if(sum > left_sum):\n",
    "            left_sum = sum\n",
    "            max_left = i\n",
    "    \n",
    "    right_sum = INF\n",
    "    sum = 0\n",
    "    \n",
    "    for j in range(mid + 1, high + 1):\n",
    "        sum += A[j]\n",
    "        if (sum > right_sum):\n",
    "            right_sum = sum\n",
    "            max_right = j\n",
    "    \n",
    "    return(max_left, max_right, left_sum + right_sum)\n",
    "\n",
    "A = []\n",
    "n = int(input())\n",
    "for i in range(n):\n",
    "    A.append(int(input()))\n",
    "             \n",
    "for i in FIND_MAX_SUB(A, 0, n - 1):\n",
    "    print(i)\n"
   ]
  }
 ],
 "metadata": {
  "kernelspec": {
   "display_name": "Python 3",
   "language": "python",
   "name": "python3"
  },
  "language_info": {
   "codemirror_mode": {
    "name": "ipython",
    "version": 3
   },
   "file_extension": ".py",
   "mimetype": "text/x-python",
   "name": "python",
   "nbconvert_exporter": "python",
   "pygments_lexer": "ipython3",
   "version": "3.8.10"
  }
 },
 "nbformat": 4,
 "nbformat_minor": 5
}
