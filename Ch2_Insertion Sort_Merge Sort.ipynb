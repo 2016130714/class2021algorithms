{
 "cells": [
  {
   "cell_type": "markdown",
   "id": "d914ed8c",
   "metadata": {},
   "source": [
    "# python 표준 입력 함수: input\n",
    "# 입력 값을 형태에 맞게 변환하기"
   ]
  },
  {
   "cell_type": "code",
   "execution_count": 19,
   "id": "9820fe23",
   "metadata": {},
   "outputs": [
    {
     "name": "stdout",
     "output_type": "stream",
     "text": [
      "안녕하세요\n",
      "안녕하세요\n",
      "입력하세요: 안녕하세요\n",
      "안녕하세요\n"
     ]
    }
   ],
   "source": [
    "a = input()\n",
    "print(a)\n",
    "b = input('입력하세요: ' )\n",
    "print(b)"
   ]
  },
  {
   "cell_type": "markdown",
   "id": "dd171b26",
   "metadata": {},
   "source": [
    "* input() 함수는 기본적으로 string 형태로 입력받는다.\n",
    "* input('입력하세요: ')처럼 논항에 string을 넣으면, 그것을 출력하고, 그 뒤에 입력을 받는다. \n",
    "* 이 경우 논항에 넣은 '입력하세요: '는 변수 b에 저장되지 않았음을 알 수 있다."
   ]
  },
  {
   "cell_type": "code",
   "execution_count": 26,
   "id": "37d02a12",
   "metadata": {},
   "outputs": [
    {
     "name": "stdout",
     "output_type": "stream",
     "text": [
      "[1, 2, 3, ...]의 형태로 입력하세요: [1, 2, 3, 4]\n",
      "[1, 2, 3, 4]\n",
      "정수 하나를 입력하세요: 456\n",
      "456\n"
     ]
    }
   ],
   "source": [
    "c = input('[1, 2, 3, ...]의 형태로 입력하세요: ')\n",
    "print(c)\n",
    "d = input('정수 하나를 입력하세요: ')\n",
    "print(d)"
   ]
  },
  {
   "cell_type": "code",
   "execution_count": 27,
   "id": "601f4635",
   "metadata": {},
   "outputs": [
    {
     "data": {
      "text/plain": [
       "'[1, 2, 3, 4]'"
      ]
     },
     "execution_count": 27,
     "metadata": {},
     "output_type": "execute_result"
    }
   ],
   "source": [
    "c"
   ]
  },
  {
   "cell_type": "markdown",
   "id": "b0feeb5b",
   "metadata": {},
   "source": [
    "* input() 함수를 통해 받은 값은 기본적으로 string 형태다."
   ]
  },
  {
   "cell_type": "code",
   "execution_count": 28,
   "id": "15b13536",
   "metadata": {},
   "outputs": [
    {
     "name": "stdout",
     "output_type": "stream",
     "text": [
      "[1, 2, 3, 4] 456 <class 'list'> <class 'int'>\n"
     ]
    }
   ],
   "source": [
    "c = eval(c)\n",
    "d = eval(d)\n",
    "print(c, d, type(c), type(d))"
   ]
  },
  {
   "cell_type": "markdown",
   "id": "72cbc5fe",
   "metadata": {},
   "source": [
    "* eval() 함수를 써 재정의하면, 형태에 맞는 유효한 type으로 변환해준다."
   ]
  },
  {
   "cell_type": "markdown",
   "id": "ce602487",
   "metadata": {},
   "source": [
    "# insertion - sort algorithm"
   ]
  },
  {
   "cell_type": "code",
   "execution_count": 2,
   "id": "6a5817de",
   "metadata": {},
   "outputs": [
    {
     "name": "stdout",
     "output_type": "stream",
     "text": [
      "8\n",
      "2\n",
      "4\n",
      "5\n",
      "7\n",
      "1\n",
      "2\n",
      "3\n",
      "6\n",
      "1\n",
      "2\n",
      "2\n",
      "3\n",
      "4\n",
      "5\n",
      "6\n",
      "7\n"
     ]
    }
   ],
   "source": [
    "def Insertion_Sort(A):\n",
    "    for j in range(len(A))[1:]:            #배열의 index 1 to n \n",
    "        key = A[j]\n",
    "        i = j - 1\n",
    "        while i >= 0 and A[i] > key:\n",
    "            A[i + 1] = A[i]\n",
    "            i -= 1\n",
    "        A[i + 1] = key\n",
    "\n",
    "A = []\n",
    "n = int(input())              #배열의 크기를 먼저 input으로 받고, A 원소를 받음\n",
    "for i in range(n):\n",
    "    A.append(int(input()))\n",
    "\n",
    "Insertion_Sort(A)\n",
    "\n",
    "for i in A:\n",
    "    print(i)"
   ]
  },
  {
   "cell_type": "code",
   "execution_count": 66,
   "id": "cf21f9ce",
   "metadata": {},
   "outputs": [
    {
     "name": "stdout",
     "output_type": "stream",
     "text": [
      "[1, 2, 3,...] 형태로 배열을 입력하세요.: [5, 2, 4, 6, 1, 3]\n"
     ]
    },
    {
     "data": {
      "text/plain": [
       "[1, 2, 3, 4, 5, 6]"
      ]
     },
     "execution_count": 66,
     "metadata": {},
     "output_type": "execute_result"
    }
   ],
   "source": [
    "Insertion_Sort()"
   ]
  },
  {
   "cell_type": "markdown",
   "id": "0b23c738",
   "metadata": {},
   "source": [
    "# Merge-Sort Algorithm\n",
    "* Divide-and-Conquer approach: Divide: target 문제를 여러 개의 sub problem으로 나눈다. -> conquer: strainghtforward 방식으로 해결 가능할 때까지 나눠, solve -> combine"
   ]
  },
  {
   "cell_type": "code",
   "execution_count": 1,
   "id": "8087a503",
   "metadata": {},
   "outputs": [],
   "source": [
    "import math\n",
    "\n",
    "def Merge_Sort(A, p, r):\n",
    "    if p < r:                   #종결 조건\n",
    "        q = math.floor((p + r) / 2)\n",
    "        Merge_Sort(A, p, q)\n",
    "        Merge_Sort(A, q + 1, r)\n",
    "        Merge(A, p, q, r)\n",
    "        \n",
    "    return A \n",
    "        \n",
    "def Merge(A, p, q, r):\n",
    "    n_1 = q - p + 1          #left sub-array의 length\n",
    "    n_2 = r - q              #right sub-array의 length\n",
    "    L = []; R = []\n",
    "    \n",
    "    for i in range(n_1):\n",
    "        L.append(A[p + i])          #python에서 빈 리스트에 값을 대입할 경우 append method 사용\n",
    "    for j in range(n_2):\n",
    "        R.append(A[q + j + 1])\n",
    "        \n",
    "    L.append(float(\"inf\"))    #sub-array 뒤에 각각 무한을 붙여,\n",
    "    R.append(float(\"inf\"))    #어느 한 쪽이 끝나면 다른 쪽의 나머지 원소가 다 들어오도록 함\n",
    "    i = 0\n",
    "    j = 0\n",
    "    \n",
    "    for k in range(p, r + 1):    #range의 범위 설정 조심! range(len(A)), range(r - p + 1)등은 안된다.\n",
    "        if L[i] >= R[j]:         #A의 index가 0에서 시작한다는 보장이 없기 때문에 range(p, r + 1)로 해야함.\n",
    "            A[k] = R[j]\n",
    "            j += 1\n",
    "        else:\n",
    "            A[k] = L[i]\n",
    "            i += 1"
   ]
  },
  {
   "cell_type": "code",
   "execution_count": 2,
   "id": "43232226",
   "metadata": {},
   "outputs": [
    {
     "data": {
      "text/plain": [
       "[1, 2, 2, 3, 4, 5, 6, 7]"
      ]
     },
     "execution_count": 2,
     "metadata": {},
     "output_type": "execute_result"
    }
   ],
   "source": [
    "A = [5, 2, 4, 7, 1, 3, 2, 6]\n",
    "Merge_Sort(A, 0, 7)"
   ]
  }
 ],
 "metadata": {
  "kernelspec": {
   "display_name": "Python 3",
   "language": "python",
   "name": "python3"
  },
  "language_info": {
   "codemirror_mode": {
    "name": "ipython",
    "version": 3
   },
   "file_extension": ".py",
   "mimetype": "text/x-python",
   "name": "python",
   "nbconvert_exporter": "python",
   "pygments_lexer": "ipython3",
   "version": "3.8.10"
  }
 },
 "nbformat": 4,
 "nbformat_minor": 5
}
