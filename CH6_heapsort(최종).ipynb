{
 "cells": [
  {
   "cell_type": "markdown",
   "id": "31c87b71",
   "metadata": {},
   "source": [
    "# Heap_Sort\n",
    "\n",
    "### heap이라는 자료구조(max_heap)가 되기 위한 조건\n",
    "1. complete binary tree, 즉 가장 아래 층을 제외한 모든 노드가 perfect인 tree\n",
    "2. 0 <= A.heap_size <= A.length   --> heap_size는 절대 전체 배열 A를 넘지 않음\n",
    "3. max_heap property: A.PARENT(i) >= A[i] --> 즉 부모의 값이 항상 자식보다 크다. 종합적으론, root에 가장 큰 값이 들어간 상태가 될 것이다.\n",
    "\n",
    "### MAX_HEAPIFY 함수\n",
    "* MAX_HEAPIFY(A, i) : 특정 원소 i가 max_heap의 속성을 만족하게 한다. \n",
    "* BUILD_MAX_HEAP(A) : A의 모든 원소가 max_heap의 속성을 만족한다면, A는 max_heap이 된다.\n",
    "* HEAP_SORT(A): heap의 성질을 이용해 정렬한다.\n",
    "\n",
    "### HEAP SORT 함수\n",
    "* 먼저 BUILD_MAX_HEAP(A)한다. 즉 max_heap으로 만든다. max_heap의 특성을 이용해 정렬한다.\n",
    "* max_heap의 특성은, root, 즉 A[0]에 가장 큰 값이 온다는 것. 만약 오름차순 정렬한다면, \"root를 맨 뒤로 보내기 -> heap_size - 1 -> (맨 뒤 원소를 가져온 root에 대해) MAX_HEAPIFY(A, 0)\"의 과정을 거치면 된다. max_heap에서 항상 root가 제외되므로, 결과적으로 오름차순 정렬된다."
   ]
  },
  {
   "cell_type": "code",
   "execution_count": 1,
   "id": "3d24d2a5",
   "metadata": {},
   "outputs": [
    {
     "name": "stdout",
     "output_type": "stream",
     "text": [
      "1\n",
      "1\n",
      "1\n"
     ]
    }
   ],
   "source": [
    "def LEFT(i):\n",
    "    return (2 * i) + 1\n",
    "def RIGHT(i):\n",
    "    return (2 * i) + 2\n",
    "\n",
    "def HEAPSORT(A):\n",
    "    BUILD_MAX_HEAP(A)\n",
    "    for i in range(len(A) - 1, 0, -1):\n",
    "        A[0], A[i] = A[i], A[0]\n",
    "        global heap_size\n",
    "        heap_size -= 1\n",
    "        MAX_HEAPIFY(A, 0)\n",
    "\n",
    "def BUILD_MAX_HEAP(A):\n",
    "    global heap_size\n",
    "    heap_size = len(A) - 1\n",
    "    for i in range(int((len(A) - 1) / 2), -1, -1):\n",
    "        MAX_HEAPIFY(A, i)\n",
    "\n",
    "def MAX_HEAPIFY(A, i):\n",
    "    l = LEFT(i)\n",
    "    r = RIGHT(i)\n",
    "    if (l <= heap_size) and (A[l] > A[i]):\n",
    "        largest = l\n",
    "    else:\n",
    "        largest = i\n",
    "\n",
    "    if (r <= heap_size) and (A[r] > A[largest]):\n",
    "        largest = r\n",
    "    if (largest != i):\n",
    "        A[i], A[largest] = A[largest], A[i]\n",
    "        MAX_HEAPIFY(A, largest)\n",
    "        \n",
    "A = []\n",
    "n = int(input())\n",
    "for i in range(n):\n",
    "    A.append(int(input()))\n",
    "HEAPSORT(A)\n",
    "for i in A:\n",
    "    print(i)"
   ]
  },
  {
   "cell_type": "code",
   "execution_count": 2,
   "id": "cdef04f1",
   "metadata": {},
   "outputs": [
    {
     "ename": "SyntaxError",
     "evalue": "EOL while scanning string literal (<ipython-input-2-6a5f234fa1d1>, line 1)",
     "output_type": "error",
     "traceback": [
      "\u001b[1;36m  File \u001b[1;32m\"<ipython-input-2-6a5f234fa1d1>\"\u001b[1;36m, line \u001b[1;32m1\u001b[0m\n\u001b[1;33m    \"def LEFT(i):\u001b[0m\n\u001b[1;37m                 ^\u001b[0m\n\u001b[1;31mSyntaxError\u001b[0m\u001b[1;31m:\u001b[0m EOL while scanning string literal\n"
     ]
    }
   ],
   "source": [
    "\"def LEFT(i):\n",
    "    return (2 * i) + 1\n",
    "def RIGHT(i):\n",
    "    return (2 * i) + 2\n",
    "\n",
    "def HEAPSORT(A):\n",
    "    BUILD_MAX_HEAP(A)\n",
    "    for i in range(len(A) - 1, 0, -1):\n",
    "        A[0], A[i] = A[i], A[0]\n",
    "        global heap_size\n",
    "        heap_size -= 1\n",
    "        MAX_HEAPIFY(A, 0)\n",
    "\n",
    "def BUILD_MAX_HEAP(A):\n",
    "    global heap_size\n",
    "    heap_size = len(A) - 1\n",
    "    for i in range(int((len(A) - 1) / 2), -1, -1):\n",
    "        MAX_HEAPIFY(A, i)\n",
    "\n",
    "def MAX_HEAPIFY(A, i):\n",
    "    l = LEFT(i)\n",
    "    r = RIGHT(i)\n",
    "    if (l <= heap_size) and (A[l] > A[i]):\n",
    "        largest = l\n",
    "    else:\n",
    "        largest = i\n",
    "\n",
    "    if (r <= heap_size) and (A[r] > A[largest]):\n",
    "        largest = r\n",
    "    if (largest != i):\n",
    "        A[i], A[largest] = A[largest], A[i]\n",
    "        MAX_HEAPIFY(A, largest)\n",
    "        \n",
    "A = []\n",
    "n = int(input())\n",
    "for i in range(n):\n",
    "    A.append(int(input()))\n",
    "HEAPSORT(A)\n",
    "for i in A:\n",
    "    print(i)\""
   ]
  },
  {
   "cell_type": "code",
   "execution_count": null,
   "id": "cb30bc1f",
   "metadata": {},
   "outputs": [],
   "source": []
  }
 ],
 "metadata": {
  "kernelspec": {
   "display_name": "Python 3",
   "language": "python",
   "name": "python3"
  },
  "language_info": {
   "codemirror_mode": {
    "name": "ipython",
    "version": 3
   },
   "file_extension": ".py",
   "mimetype": "text/x-python",
   "name": "python",
   "nbconvert_exporter": "python",
   "pygments_lexer": "ipython3",
   "version": "3.8.10"
  }
 },
 "nbformat": 4,
 "nbformat_minor": 5
}
