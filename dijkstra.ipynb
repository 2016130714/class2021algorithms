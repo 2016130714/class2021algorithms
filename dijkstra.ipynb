{
 "cells": [
  {
   "cell_type": "markdown",
   "id": "4f333f33",
   "metadata": {},
   "source": [
    "### graph 표현법\n",
    "* 1. adjacent matrix 사용\n",
    "[[1, 1, 0, 0, 1, 0],  [1, 1, 1, 0, 1, 0],....] 형태의 인접 행렬 사용\n",
    "단점: 메모리 낭비가 크다. (sparse하다)  n^2 크기의 메모리 필요\n",
    "\n",
    "* 2. 인접 리스트로 표현\n",
    " vertex = [1, 2, 3, 4, 5, 6]\n",
    " edge=  [(1,2), (2,5), (1,5)....(6,4)]"
   ]
  },
  {
   "cell_type": "code",
   "execution_count": 1,
   "id": "28dddfe8",
   "metadata": {
    "scrolled": true
   },
   "outputs": [
    {
     "name": "stdout",
     "output_type": "stream",
     "text": [
      "A,B,C,D,E\n",
      "10\n",
      "A,B,10\n",
      "A,C,5\n",
      "B,C,2\n",
      "B,D,1\n",
      "C,B,3\n",
      "C,D,9\n",
      "C,E,2\n",
      "D,E,4\n",
      "E,A,7\n",
      "E,D,6\n",
      "0\n",
      "8\n",
      "5\n",
      "9\n",
      "7\n"
     ]
    }
   ],
   "source": [
    "INF = 10000\n",
    "class VERTEX:\n",
    "    def __init__(self, node):\n",
    "        self.node = node\n",
    "        self.d = None\n",
    "        self.pi = None\n",
    "class GRAPH:\n",
    "    def __init__(self):\n",
    "        self.edge = []\n",
    "    def EDGE(self, start, end, weight):\n",
    "        self.edge.append((start, end, weight))\n",
    "        \n",
    "def INITIALIZE(s):\n",
    "    for i in v_list:\n",
    "        i.d = INF\n",
    "    s.d = 0\n",
    "def RELAX(u, v):\n",
    "    if v.d > u.d + W(u, v):\n",
    "        v.d = u.d + W(u, v)\n",
    "        v.pi = u\n",
    "def EXTRACT_MIN(Q):\n",
    "    temp = INF\n",
    "    min = None\n",
    "    for i in Q:\n",
    "        if i.d < temp:\n",
    "            temp = i.d\n",
    "            min = i\n",
    "    if min in Q:\n",
    "        Q.remove(min)\n",
    "    return min\n",
    "def ADJ(u):\n",
    "    adj = []\n",
    "    for i in graph.edge:\n",
    "        if i[0] == u.node:\n",
    "            for j in v_list:\n",
    "                if j.node == i[1]:\n",
    "                    adj.append(j)\n",
    "    return adj\n",
    "def W(u, v):\n",
    "    for i in graph.edge:\n",
    "        if u.node == i[0] and v.node == i[1]:\n",
    "            return i[2]\n",
    "\n",
    "def DIJKSTRA(graph, s):\n",
    "    INITIALIZE(s)\n",
    "    S = []\n",
    "    Q = v_list[:]\n",
    "    while Q != []:\n",
    "        u = EXTRACT_MIN(Q)\n",
    "        S.append(u)\n",
    "        for v in ADJ(u):\n",
    "            RELAX(u,v)\n",
    "v_list = []\n",
    "graph = GRAPH()\n",
    "temp = input()\n",
    "for i in range(len(temp)):\n",
    "    if i % 2 == 0:\n",
    "        v_list.append(VERTEX(temp[i]))\n",
    "n = int(input())\n",
    "\n",
    "for i in range(n):\n",
    "    x = input()\n",
    "    y = int(x[4:])    \n",
    "    graph.EDGE(x[0], x[2], y)\n",
    "DIJKSTRA(graph, v_list[0])\n",
    "for i in v_list:\n",
    "    print(i.d)"
   ]
  },
  {
   "cell_type": "code",
   "execution_count": 43,
   "id": "4bf487cb",
   "metadata": {},
   "outputs": [
    {
     "name": "stdout",
     "output_type": "stream",
     "text": [
      "0\n",
      "8\n",
      "5\n",
      "9\n",
      "7\n"
     ]
    }
   ],
   "source": [
    "for i in v_list:\n",
    "    print(i.d)"
   ]
  },
  {
   "cell_type": "code",
   "execution_count": 32,
   "id": "62caea5f",
   "metadata": {},
   "outputs": [],
   "source": [
    "for v in ADJ(u):\n",
    "    RELAX(u,v)"
   ]
  },
  {
   "cell_type": "code",
   "execution_count": 35,
   "id": "82c6b7e6",
   "metadata": {},
   "outputs": [
    {
     "name": "stdout",
     "output_type": "stream",
     "text": [
      "None\n",
      "<__main__.VERTEX object at 0x0000020F14DE5850>\n",
      "None\n",
      "None\n",
      "<__main__.VERTEX object at 0x0000020F14DE5850>\n"
     ]
    }
   ],
   "source": [
    "for i in v_list:\n",
    "    print(i.pi)"
   ]
  },
  {
   "cell_type": "code",
   "execution_count": 34,
   "id": "7822d6fb",
   "metadata": {},
   "outputs": [],
   "source": [
    "v_list[3].pi"
   ]
  },
  {
   "cell_type": "code",
   "execution_count": 21,
   "id": "74a60ca2",
   "metadata": {},
   "outputs": [],
   "source": [
    "x"
   ]
  },
  {
   "cell_type": "code",
   "execution_count": 69,
   "id": "03dd3ed6",
   "metadata": {},
   "outputs": [
    {
     "name": "stdout",
     "output_type": "stream",
     "text": [
      "<__main__.VERTEX object at 0x0000026E7B730550>\n",
      "<__main__.VERTEX object at 0x0000026E7B730550>\n"
     ]
    }
   ],
   "source": [
    "for i in graph.edge:\n",
    "    if i[0] == VERTEX('a').node:\n",
    "        print(VERTEX(i[1]))"
   ]
  },
  {
   "cell_type": "code",
   "execution_count": 55,
   "id": "77cb56f8",
   "metadata": {},
   "outputs": [],
   "source": [
    "x = EXTRACT_MIN(v_list)"
   ]
  },
  {
   "cell_type": "code",
   "execution_count": 56,
   "id": "8058ac7f",
   "metadata": {},
   "outputs": [
    {
     "data": {
      "text/plain": [
       "[<__main__.VERTEX at 0x26e7b693040>,\n",
       " <__main__.VERTEX at 0x26e7b699100>,\n",
       " <__main__.VERTEX at 0x26e7b6f9d00>,\n",
       " <__main__.VERTEX at 0x26e7b730730>]"
      ]
     },
     "execution_count": 56,
     "metadata": {},
     "output_type": "execute_result"
    }
   ],
   "source": [
    "v_list"
   ]
  },
  {
   "cell_type": "code",
   "execution_count": 45,
   "id": "49202609",
   "metadata": {},
   "outputs": [
    {
     "data": {
      "text/plain": [
       "[('a', 'b', 4), ('b', 'e', 6), ('c', 'd', 2)]"
      ]
     },
     "execution_count": 45,
     "metadata": {},
     "output_type": "execute_result"
    }
   ],
   "source": [
    "v"
   ]
  },
  {
   "cell_type": "code",
   "execution_count": 236,
   "id": "02ac04f4",
   "metadata": {},
   "outputs": [
    {
     "data": {
      "text/plain": [
       "'B'"
      ]
     },
     "execution_count": 236,
     "metadata": {},
     "output_type": "execute_result"
    }
   ],
   "source": [
    "v_list[1].node"
   ]
  },
  {
   "cell_type": "code",
   "execution_count": 228,
   "id": "b52e1ceb",
   "metadata": {},
   "outputs": [],
   "source": [
    "k = GRAPH()"
   ]
  },
  {
   "cell_type": "code",
   "execution_count": 229,
   "id": "49b12cf6",
   "metadata": {},
   "outputs": [],
   "source": [
    "k.EDGE(a, b, 10)\n",
    "k.EDGE(a, c, 8)"
   ]
  },
  {
   "cell_type": "code",
   "execution_count": 230,
   "id": "c12ce291",
   "metadata": {},
   "outputs": [
    {
     "data": {
      "text/plain": [
       "[(<__main__.VERTEX at 0x15510a7eaf0>, <__main__.VERTEX at 0x15510a7e1c0>, 10),\n",
       " (<__main__.VERTEX at 0x15510a7eaf0>, <__main__.VERTEX at 0x15510a70eb0>, 8)]"
      ]
     },
     "execution_count": 230,
     "metadata": {},
     "output_type": "execute_result"
    }
   ],
   "source": [
    "k.edge"
   ]
  },
  {
   "cell_type": "code",
   "execution_count": 65,
   "id": "f7d3fd6f",
   "metadata": {},
   "outputs": [
    {
     "ename": "SyntaxError",
     "evalue": "unexpected EOF while parsing (<ipython-input-65-3818ce296202>, line 2)",
     "output_type": "error",
     "traceback": [
      "\u001b[1;36m  File \u001b[1;32m\"<ipython-input-65-3818ce296202>\"\u001b[1;36m, line \u001b[1;32m2\u001b[0m\n\u001b[1;33m    def __init__(self):\u001b[0m\n\u001b[1;37m                       ^\u001b[0m\n\u001b[1;31mSyntaxError\u001b[0m\u001b[1;31m:\u001b[0m unexpected EOF while parsing\n"
     ]
    }
   ],
   "source": [
    "class DDD:\n",
    "    def __init__(self):"
   ]
  },
  {
   "cell_type": "code",
   "execution_count": 232,
   "id": "b9065e85",
   "metadata": {},
   "outputs": [
    {
     "data": {
      "text/plain": [
       "10000"
      ]
     },
     "execution_count": 232,
     "metadata": {},
     "output_type": "execute_result"
    }
   ],
   "source": [
    "v_list[1].d"
   ]
  }
 ],
 "metadata": {
  "kernelspec": {
   "display_name": "Python 3",
   "language": "python",
   "name": "python3"
  },
  "language_info": {
   "codemirror_mode": {
    "name": "ipython",
    "version": 3
   },
   "file_extension": ".py",
   "mimetype": "text/x-python",
   "name": "python",
   "nbconvert_exporter": "python",
   "pygments_lexer": "ipython3",
   "version": "3.8.10"
  }
 },
 "nbformat": 4,
 "nbformat_minor": 5
}
